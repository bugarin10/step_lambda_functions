{
 "cells": [
  {
   "cell_type": "code",
   "execution_count": 2,
   "metadata": {},
   "outputs": [
    {
     "data": {
      "text/plain": [
       "'/Users/rafaeldavila/Documents/Duke/Sem2/Cloud/miniprojects/9_step_lambdas/step_lambda_functions/stepfunctions/normalizing_data'"
      ]
     },
     "execution_count": 2,
     "metadata": {},
     "output_type": "execute_result"
    }
   ],
   "source": [
    "import pandas as pd\n",
    "import numpy as np\n",
    "import random\n",
    "import os\n",
    "\n",
    "os.getcwd()"
   ]
  },
  {
   "cell_type": "code",
   "execution_count": 7,
   "metadata": {},
   "outputs": [],
   "source": [
    "# Generating the data\n",
    "\n",
    "from numpy.random import normal\n",
    "\n",
    "X = np.array(\n",
    "    [\n",
    "        [normal(0, 20) for i in range(100)],\n",
    "        [normal(0, 20) for i in range(100)],\n",
    "    ]\n",
    ")\n",
    "y_0 = 0.005 * X[0, :] + 0.008 * X[1, :] + np.array([normal(0, 1) for i in range(100)])\n",
    "y = 1 / (1 + np.exp(-y_0))\n",
    "y = (y > 0.5).astype(int)"
   ]
  },
  {
   "cell_type": "code",
   "execution_count": 8,
   "metadata": {},
   "outputs": [],
   "source": [
    "import json\n",
    "\n",
    "# Convert NumPy arrays to lists of 32-bit floats\n",
    "data_dict = {\"x\": X.astype(np.float32).tolist(), \"y\": y.tolist()}\n",
    "\n",
    "# Convert the dictionary to a JSON string\n",
    "json_str = json.dumps(data_dict)\n",
    "\n",
    "# Write the JSON string to a file\n",
    "with open(\"payload.json\", \"w\") as f:\n",
    "    f.write(json_str)"
   ]
  }
 ],
 "metadata": {
  "kernelspec": {
   "display_name": "base",
   "language": "python",
   "name": "python3"
  },
  "language_info": {
   "codemirror_mode": {
    "name": "ipython",
    "version": 3
   },
   "file_extension": ".py",
   "mimetype": "text/x-python",
   "name": "python",
   "nbconvert_exporter": "python",
   "pygments_lexer": "ipython3",
   "version": "3.11.5"
  }
 },
 "nbformat": 4,
 "nbformat_minor": 2
}
